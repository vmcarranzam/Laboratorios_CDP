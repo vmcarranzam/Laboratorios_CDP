{
  "nbformat": 4,
  "nbformat_minor": 0,
  "metadata": {
    "colab": {
      "provenance": [],
      "authorship_tag": "ABX9TyPM0g/n6CLpcMJOz1ZfvtQW",
      "include_colab_link": true
    },
    "kernelspec": {
      "name": "python3",
      "display_name": "Python 3"
    },
    "language_info": {
      "name": "python"
    }
  },
  "cells": [
    {
      "cell_type": "markdown",
      "metadata": {
        "id": "view-in-github",
        "colab_type": "text"
      },
      "source": [
        "<a href=\"https://colab.research.google.com/github/vmcarranzam/PDS/blob/main/Laboratorio_2_Python.ipynb\" target=\"_parent\"><img src=\"https://colab.research.google.com/assets/colab-badge.svg\" alt=\"Open In Colab\"/></a>"
      ]
    },
    {
      "cell_type": "markdown",
      "source": [
        "1. Haga un programa en Python que reciba de parámetro un número de segundos y que despliegue en pantalla, las horas, minutos y segundos que representan. Por ejemplo:\n",
        "Si el número de segundos recibidos fuera: 2743 entonces su programa debería desplegar:\n",
        "Horas: 0, Minutos: 45 , Segundos: 43\n",
        "Si el número de segundos recibidos fuera 5871: Horas: 1, Minutos: 37 , Segundos: 51"
      ],
      "metadata": {
        "id": "x3iJfT1i5a4c"
      }
    },
    {
      "cell_type": "code",
      "execution_count": null,
      "metadata": {
        "id": "UpGCgxuE5Tef"
      },
      "outputs": [],
      "source": [
        "def Despliegue_Temporal(tiempo):\n",
        "  horas = tiempo//3600\n",
        "  minutos= round(abs(horas-tiempo/3600)*60 - (abs(horas-tiempo/3600)*60)%1) \n",
        "  segundos = round(((abs(horas-tiempo/3600)*60)%1)*60)\n",
        "  return horas, minutos, segundos"
      ]
    },
    {
      "cell_type": "code",
      "source": [
        "tiempo=5871\n",
        "horas, minutos, segundos= Despliegue_Temporal(tiempo)\n",
        "print(\"Horas: {}, Minutos: {}, Segundos: {}\".format(horas, minutos, segundos))"
      ],
      "metadata": {
        "colab": {
          "base_uri": "https://localhost:8080/"
        },
        "id": "g-irh9fR-y-E",
        "outputId": "cfe510ee-0030-4ad1-a436-52c904b96b77"
      },
      "execution_count": null,
      "outputs": [
        {
          "output_type": "stream",
          "name": "stdout",
          "text": [
            "Horas: 1, Minutos: 37, Segundos: 51\n"
          ]
        }
      ]
    },
    {
      "cell_type": "markdown",
      "source": [
        "2. Haga una función en Python que dado un número entre 1 y 20. Y un caracter cualquiera\n",
        "despliegue cuatro patrones triangulares"
      ],
      "metadata": {
        "id": "Qt8qKszJ8MHM"
      }
    },
    {
      "cell_type": "code",
      "source": [
        "def triangulos(numero, simbolo):\n",
        "  for i in range(numero+1):\n",
        "   print(i*(simbolo))\n",
        "  print(\"\\n\")\n",
        "  for i in range(numero,0,-1):\n",
        "   print(f\"{ i*(simbolo): <10}\")\n",
        "  print(\"\\n\")\n",
        "  for i in range(numero,0,-1):\n",
        "   print(f\"{ i*(simbolo): >10}\")\n",
        "  print(\"\\n\")\n",
        "  for i in range(numero+1):\n",
        "   print(f\"{ i*(simbolo): >10}\")\n",
        "  print(\"\\n\")"
      ],
      "metadata": {
        "id": "1IqwEzCK2CAM"
      },
      "execution_count": null,
      "outputs": []
    },
    {
      "cell_type": "code",
      "source": [
        "triangulos(10, \"l\")"
      ],
      "metadata": {
        "colab": {
          "base_uri": "https://localhost:8080/"
        },
        "id": "iaPzT_Rf24zj",
        "outputId": "ae98c326-53c2-4f20-e9ba-612438f36d1d"
      },
      "execution_count": null,
      "outputs": [
        {
          "output_type": "stream",
          "name": "stdout",
          "text": [
            "\n",
            "l\n",
            "ll\n",
            "lll\n",
            "llll\n",
            "lllll\n",
            "llllll\n",
            "lllllll\n",
            "llllllll\n",
            "lllllllll\n",
            "llllllllll\n",
            "\n",
            "\n",
            "llllllllll\n",
            "lllllllll \n",
            "llllllll  \n",
            "lllllll   \n",
            "llllll    \n",
            "lllll     \n",
            "llll      \n",
            "lll       \n",
            "ll        \n",
            "l         \n",
            "\n",
            "\n",
            "llllllllll\n",
            " lllllllll\n",
            "  llllllll\n",
            "   lllllll\n",
            "    llllll\n",
            "     lllll\n",
            "      llll\n",
            "       lll\n",
            "        ll\n",
            "         l\n",
            "\n",
            "\n",
            "          \n",
            "         l\n",
            "        ll\n",
            "       lll\n",
            "      llll\n",
            "     lllll\n",
            "    llllll\n",
            "   lllllll\n",
            "  llllllll\n",
            " lllllllll\n",
            "llllllllll\n",
            "\n",
            "\n"
          ]
        }
      ]
    },
    {
      "cell_type": "markdown",
      "source": [
        "3. Haga un programa en Python que la fecha de nacimiento de una persona (puede ingresar por\n",
        "separado cada valor, es decir pedir primero día, luego mes y luego año), despliegue la edad\n",
        "de la persona en an˜os, meses y días. Su resultado puede ser aproximado."
      ],
      "metadata": {
        "id": "6hZ_Dbov9IG1"
      }
    },
    {
      "cell_type": "code",
      "source": [
        "import datetime as dt"
      ],
      "metadata": {
        "id": "Ib4PScZZ2916"
      },
      "execution_count": null,
      "outputs": []
    },
    {
      "cell_type": "code",
      "source": [
        "def edad(dia, mes, year):\n",
        "  hoy = dt.date.today()\n",
        "  edad_year = hoy.year - year - ((hoy.month, hoy.day) < (mes, dia))\n",
        "  if hoy.month >= mes:\n",
        "   ultimo_cumple = dt.date(hoy.year, mes, dia)\n",
        "  else:\n",
        "   ultimo_cumple = dt.date(hoy.year - 1,  mes, dia)\n",
        "  dif = hoy - ultimo_cumple\n",
        "  edad_mes = dif.days // 30\n",
        "  edad_dia = hoy.day - 1\n",
        "  return edad_year, edad_mes, edad_dia"
      ],
      "metadata": {
        "id": "tLzFjgt59Qbl"
      },
      "execution_count": null,
      "outputs": []
    },
    {
      "cell_type": "code",
      "source": [
        "year, mes, dia = edad(3,8,1991)\n",
        "print(\"Tienes {} años, {} meses y {} días\".format(year,mes,dia))"
      ],
      "metadata": {
        "colab": {
          "base_uri": "https://localhost:8080/"
        },
        "id": "i8V9CrIh8xqP",
        "outputId": "c7451005-e824-4a73-be9c-b7697a72d8a0"
      },
      "execution_count": null,
      "outputs": [
        {
          "output_type": "stream",
          "name": "stdout",
          "text": [
            "Tienes 31 años, 7 meses y 7 días\n"
          ]
        }
      ]
    },
    {
      "cell_type": "markdown",
      "source": [
        "4. Escriba una función en Python que dada una tupla de elementos (números o letras) esta se\n",
        "convierta a un string."
      ],
      "metadata": {
        "id": "RgZRV5cLN7Fz"
      }
    },
    {
      "cell_type": "code",
      "source": [
        "def juntar(tupla):\n",
        "  salida=\"\"\n",
        "  for i in tupla:\n",
        "    salida += str(i)\n",
        "  return salida"
      ],
      "metadata": {
        "id": "JurmFafyCH8d"
      },
      "execution_count": null,
      "outputs": []
    },
    {
      "cell_type": "code",
      "source": [
        "t=(\"mango\",20,30,40,\"armadillo\", 1.35)\n",
        "j=juntar(t)\n",
        "print(j)"
      ],
      "metadata": {
        "colab": {
          "base_uri": "https://localhost:8080/"
        },
        "id": "Z3oicbp3Ott8",
        "outputId": "7bfcb05f-fa81-4b57-952c-4c3da04a78c8"
      },
      "execution_count": null,
      "outputs": [
        {
          "output_type": "stream",
          "name": "stdout",
          "text": [
            "mango203040armadillo1.35\n"
          ]
        }
      ]
    },
    {
      "cell_type": "markdown",
      "source": [
        "5. Cree un programa en Python que dada una lista de tuplas, elimine las tuplas que están vacías.\n",
        "Tomar nota del siguiente ejemplo:"
      ],
      "metadata": {
        "id": "vFyaWFKQPYP0"
      }
    },
    {
      "cell_type": "code",
      "source": [
        "def purga(lista):\n",
        "  salida=[]\n",
        "  for i in lista:\n",
        "    if len(i) != 0:\n",
        "      salida.append(i)\n",
        "  return salida  "
      ],
      "metadata": {
        "id": "EBE71A6rPH9C"
      },
      "execution_count": null,
      "outputs": []
    },
    {
      "cell_type": "code",
      "source": [
        "l = [(), (), (\"X\",), (\"a\", \"b\"), (\"a\", \"b\", \"c\"), (\"d\")]\n",
        "purga(l)"
      ],
      "metadata": {
        "colab": {
          "base_uri": "https://localhost:8080/"
        },
        "id": "JG1MdTYvQkmq",
        "outputId": "c08d9999-f4d8-451f-84cd-45489f8e2ca9"
      },
      "execution_count": null,
      "outputs": [
        {
          "output_type": "execute_result",
          "data": {
            "text/plain": [
              "[('X',), ('a', 'b'), ('a', 'b', 'c'), 'd']"
            ]
          },
          "metadata": {},
          "execution_count": 118
        }
      ]
    },
    {
      "cell_type": "markdown",
      "source": [
        "6. Cree una funci´on en Python que dada una tupla de tuplas con nu´meros, produzca una tupla\n",
        "con el promedio de cada tupla individual. Tomar nota del siguiente ejemplo:"
      ],
      "metadata": {
        "id": "KjJOHLY3Uka3"
      }
    },
    {
      "cell_type": "code",
      "source": [
        "def promedios(tupla):\n",
        "  salida=[]\n",
        "  for i in tupla:\n",
        "    nuevoj = 0\n",
        "    promedioj=[]\n",
        "    for j in i:\n",
        "      nuevoj += j\n",
        "      promedioj = nuevoj/len(i)\n",
        "    salida.append(promedioj)\n",
        "  return tuple(salida)"
      ],
      "metadata": {
        "id": "-7AizdkWUj4A"
      },
      "execution_count": null,
      "outputs": []
    },
    {
      "cell_type": "code",
      "source": [
        "u= ((10, 10, 10, 12), (30, 45, 56, 45), (81, 80, 39, 32))\n",
        "promedios(u)"
      ],
      "metadata": {
        "colab": {
          "base_uri": "https://localhost:8080/"
        },
        "id": "fivL969bVFmF",
        "outputId": "86392dc4-9cd8-4bea-e516-ddca152f416a"
      },
      "execution_count": null,
      "outputs": [
        {
          "output_type": "execute_result",
          "data": {
            "text/plain": [
              "(10.5, 44.0, 58.0)"
            ]
          },
          "metadata": {},
          "execution_count": 154
        }
      ]
    },
    {
      "cell_type": "markdown",
      "source": [
        "7. Escribir un programa que gestione las facturas pendientes de cobro de una empresa. Las\n",
        "facturas se almacenar´an en un diccionario donde la llave de cada factura ser´a el nu´mero de\n",
        "factura (debe utilizar un numero de 4 d´ıgitos) y el valor el coste de la factura. El programa\n",
        "debe preguntar al usuario si quiere an˜adir una nueva factura, pagar una existente o terminar.\n",
        "\n",
        "Si desea an˜adir una nueva factura se preguntar´a por el nu´mero de factura y su coste y se\n",
        "an˜adir´a al diccionario, para confirmar que la factura se ingreso correctamente el programa\n",
        "debe desplegar el diccionario completo. \n",
        "\n",
        "Si se desea pagar una factura se preguntar´a por el\n",
        "nu´mero de factura y se eliminar´a del diccionario. Despu´es de cada operaci´on el programa\n",
        "debe mostrar en pantalla la cantidad cobrada hasta el momento y la cantidad pendiente de\n",
        "cobro. Puede utilizar otras estructuras de datos como apoyo si lo considera necesario."
      ],
      "metadata": {
        "id": "5QRSBH6bbxU_"
      }
    },
    {
      "cell_type": "code",
      "source": [
        "facturas = {}\n",
        "valor_pagado = 0 \n",
        "while True:\n",
        "  \n",
        "  print(\"¿Qué deseas hacer?\")\n",
        "  print(\"1. Añadir una nueva factura\")\n",
        "  print(\"2. Pagar una factura existente\")\n",
        "  print(\"3. Terminar\")\n",
        "  \n",
        "  seleccion = input(\"Escribe el número de la acción que deseas realizar:  \")\n",
        "\n",
        "  if seleccion == \"1\":\n",
        "    numero_factura = input(\"Ingresa el número de factura (debe ser de 4 dígitos):  \")\n",
        "    if len(numero_factura) != 4:\n",
        "      print(\"Número no válido, intenta de nuevo\")\n",
        "    else:\n",
        "      costo_factura = float(input(\"Ingresa el valor de la factura:  \"))\n",
        "      facturas[numero_factura] = costo_factura\n",
        "      print(\"Factura añadida con éxito\")\n",
        "      print(\"Facturas pendientes de cobro: \")\n",
        "      print(facturas)\n",
        "  elif seleccion == \"2\":\n",
        "    numero_factura = input(\"Ingrese el número de la factura que desea pagar (debe ser de 4 dígitos): \")\n",
        "    if len(numero_factura) != 4 or not numero_factura.isdigit():\n",
        "      print(\"Número no válido, intenta de nuevo\")\n",
        "    else:\n",
        "        if numero_factura in facturas:\n",
        "          valor_pagado = valor_pagado  + facturas[numero_factura]\n",
        "          print(\"El valor a pagar es: {}\".format(costo_factura))\n",
        "          del facturas[numero_factura]\n",
        "          print(\"Factura pagada con éxito\")\n",
        "          print(\"Facturas pendientes de cobro: \")\n",
        "          print(facturas)\n",
        "        else:\n",
        "          print(\"El número de factura que ingresaste no existe, intenta de nuevo\")\n",
        "  elif seleccion == \"3\":\n",
        "    print(\"Gracias por utilizar el sistema, adiós\")\n",
        "    break\n",
        "\n",
        "  else:\n",
        "    print(\"Selección inválida, intenta de nuevo\")\n",
        "\n",
        "  print(\"Valor pagado hasta ahora: {}\".format(valor_pagado))\n",
        "  print(\"Valor pendiente de pagar: {}\".format(sum(facturas.values())))"
      ],
      "metadata": {
        "id": "rcXRhH78WlR1",
        "colab": {
          "base_uri": "https://localhost:8080/",
          "height": 1000
        },
        "outputId": "8e7840af-36cc-4329-ed5c-d728b7ac3c8b"
      },
      "execution_count": null,
      "outputs": [
        {
          "output_type": "stream",
          "name": "stdout",
          "text": [
            "¿Qué deseas hacer?\n",
            "1. Añadir una nueva factura\n",
            "2. Pagar una factura existente\n",
            "3. Terminar\n",
            "Escribe el número de la acción que deseas realizar:  1\n",
            "Ingresa el número de factura (debe ser de 4 dígitos):  2234\n",
            "Ingresa el valor de la factura:  456\n",
            "Factura añadida con éxito\n",
            "Facturas pendientes de cobro: \n",
            "{'2234': 456.0}\n",
            "Valor pagado hasta ahora: 0\n",
            "Valor pendiente de pagar: 456.0\n",
            "¿Qué deseas hacer?\n",
            "1. Añadir una nueva factura\n",
            "2. Pagar una factura existente\n",
            "3. Terminar\n",
            "Escribe el número de la acción que deseas realizar:  1\n",
            "Ingresa el número de factura (debe ser de 4 dígitos):  345\n",
            "Número no válido, intenta de nuevo\n",
            "Valor pagado hasta ahora: 0\n",
            "Valor pendiente de pagar: 456.0\n",
            "¿Qué deseas hacer?\n",
            "1. Añadir una nueva factura\n",
            "2. Pagar una factura existente\n",
            "3. Terminar\n",
            "Escribe el número de la acción que deseas realizar:  1\n",
            "Ingresa el número de factura (debe ser de 4 dígitos):  4566\n",
            "Ingresa el valor de la factura:  445\n",
            "Factura añadida con éxito\n",
            "Facturas pendientes de cobro: \n",
            "{'2234': 456.0, '4566': 445.0}\n",
            "Valor pagado hasta ahora: 0\n",
            "Valor pendiente de pagar: 901.0\n",
            "¿Qué deseas hacer?\n",
            "1. Añadir una nueva factura\n",
            "2. Pagar una factura existente\n",
            "3. Terminar\n",
            "Escribe el número de la acción que deseas realizar:  2\n",
            "Ingrese el número de la factura que desea pagar (debe ser de 4 dígitos): 2234\n",
            "El valor a pagar es: 445.0\n",
            "Factura pagada con éxito\n",
            "Facturas pendientes de cobro: \n",
            "{'4566': 445.0}\n",
            "Valor pagado hasta ahora: 456.0\n",
            "Valor pendiente de pagar: 445.0\n",
            "¿Qué deseas hacer?\n",
            "1. Añadir una nueva factura\n",
            "2. Pagar una factura existente\n",
            "3. Terminar\n"
          ]
        },
        {
          "output_type": "error",
          "ename": "KeyboardInterrupt",
          "evalue": "ignored",
          "traceback": [
            "\u001b[0;31m---------------------------------------------------------------------------\u001b[0m",
            "\u001b[0;31mKeyboardInterrupt\u001b[0m                         Traceback (most recent call last)",
            "\u001b[0;32m<ipython-input-14-e3356dd561ac>\u001b[0m in \u001b[0;36m<module>\u001b[0;34m\u001b[0m\n\u001b[1;32m      8\u001b[0m   \u001b[0mprint\u001b[0m\u001b[0;34m(\u001b[0m\u001b[0;34m\"3. Terminar\"\u001b[0m\u001b[0;34m)\u001b[0m\u001b[0;34m\u001b[0m\u001b[0;34m\u001b[0m\u001b[0m\n\u001b[1;32m      9\u001b[0m \u001b[0;34m\u001b[0m\u001b[0m\n\u001b[0;32m---> 10\u001b[0;31m   \u001b[0mseleccion\u001b[0m \u001b[0;34m=\u001b[0m \u001b[0minput\u001b[0m\u001b[0;34m(\u001b[0m\u001b[0;34m\"Escribe el número de la acción que deseas realizar:  \"\u001b[0m\u001b[0;34m)\u001b[0m\u001b[0;34m\u001b[0m\u001b[0;34m\u001b[0m\u001b[0m\n\u001b[0m\u001b[1;32m     11\u001b[0m \u001b[0;34m\u001b[0m\u001b[0m\n\u001b[1;32m     12\u001b[0m   \u001b[0;32mif\u001b[0m \u001b[0mseleccion\u001b[0m \u001b[0;34m==\u001b[0m \u001b[0;34m\"1\"\u001b[0m\u001b[0;34m:\u001b[0m\u001b[0;34m\u001b[0m\u001b[0;34m\u001b[0m\u001b[0m\n",
            "\u001b[0;32m/usr/local/lib/python3.9/dist-packages/ipykernel/kernelbase.py\u001b[0m in \u001b[0;36mraw_input\u001b[0;34m(self, prompt)\u001b[0m\n\u001b[1;32m    858\u001b[0m                 \u001b[0;34m\"raw_input was called, but this frontend does not support input requests.\"\u001b[0m\u001b[0;34m\u001b[0m\u001b[0;34m\u001b[0m\u001b[0m\n\u001b[1;32m    859\u001b[0m             )\n\u001b[0;32m--> 860\u001b[0;31m         return self._input_request(str(prompt),\n\u001b[0m\u001b[1;32m    861\u001b[0m             \u001b[0mself\u001b[0m\u001b[0;34m.\u001b[0m\u001b[0m_parent_ident\u001b[0m\u001b[0;34m,\u001b[0m\u001b[0;34m\u001b[0m\u001b[0;34m\u001b[0m\u001b[0m\n\u001b[1;32m    862\u001b[0m             \u001b[0mself\u001b[0m\u001b[0;34m.\u001b[0m\u001b[0m_parent_header\u001b[0m\u001b[0;34m,\u001b[0m\u001b[0;34m\u001b[0m\u001b[0;34m\u001b[0m\u001b[0m\n",
            "\u001b[0;32m/usr/local/lib/python3.9/dist-packages/ipykernel/kernelbase.py\u001b[0m in \u001b[0;36m_input_request\u001b[0;34m(self, prompt, ident, parent, password)\u001b[0m\n\u001b[1;32m    902\u001b[0m             \u001b[0;32mexcept\u001b[0m \u001b[0mKeyboardInterrupt\u001b[0m\u001b[0;34m:\u001b[0m\u001b[0;34m\u001b[0m\u001b[0;34m\u001b[0m\u001b[0m\n\u001b[1;32m    903\u001b[0m                 \u001b[0;31m# re-raise KeyboardInterrupt, to truncate traceback\u001b[0m\u001b[0;34m\u001b[0m\u001b[0;34m\u001b[0m\u001b[0m\n\u001b[0;32m--> 904\u001b[0;31m                 \u001b[0;32mraise\u001b[0m \u001b[0mKeyboardInterrupt\u001b[0m\u001b[0;34m(\u001b[0m\u001b[0;34m\"Interrupted by user\"\u001b[0m\u001b[0;34m)\u001b[0m \u001b[0;32mfrom\u001b[0m \u001b[0;32mNone\u001b[0m\u001b[0;34m\u001b[0m\u001b[0;34m\u001b[0m\u001b[0m\n\u001b[0m\u001b[1;32m    905\u001b[0m             \u001b[0;32mexcept\u001b[0m \u001b[0mException\u001b[0m \u001b[0;32mas\u001b[0m \u001b[0me\u001b[0m\u001b[0;34m:\u001b[0m\u001b[0;34m\u001b[0m\u001b[0;34m\u001b[0m\u001b[0m\n\u001b[1;32m    906\u001b[0m                 \u001b[0mself\u001b[0m\u001b[0;34m.\u001b[0m\u001b[0mlog\u001b[0m\u001b[0;34m.\u001b[0m\u001b[0mwarning\u001b[0m\u001b[0;34m(\u001b[0m\u001b[0;34m\"Invalid Message:\"\u001b[0m\u001b[0;34m,\u001b[0m \u001b[0mexc_info\u001b[0m\u001b[0;34m=\u001b[0m\u001b[0;32mTrue\u001b[0m\u001b[0;34m)\u001b[0m\u001b[0;34m\u001b[0m\u001b[0;34m\u001b[0m\u001b[0m\n",
            "\u001b[0;31mKeyboardInterrupt\u001b[0m: Interrupted by user"
          ]
        }
      ]
    },
    {
      "cell_type": "markdown",
      "source": [
        "8. Haga una función en Python, que cree un set con todas las cartas de una baraja de Pocker utilizando el siguiente formato: Tipo-Numero. Utilice las letras T para tréboles, C para\n",
        "corazones, P para picas y E para espadas. Para los números utilice la numeración del 1 al 13. Por ejemplo E13 - sería Rey de Espadas, P01 sería As de Picas, T05 sería cinco de Tr´eboles.\n",
        "Posteriormente cree una funci´on que dado el conjunto anterior cree dos sets nuevos de cartas,\n",
        "cada conjunto debe tener una cantidad variable de elementos, puede utilizar números aleatorios enteros para definir la longitud de los conjuntos.\n",
        "Adicionalmente, deberá calcular la probabilidad de la intersección de ambos conjuntos y demuestre si son eventos independientes con la regla del producto.\n",
        "Para concluir, calcule probabilidad de la unión de ambos conjuntos y demuestre que se cumple\n",
        "la regla de la adición."
      ],
      "metadata": {
        "id": "avfP1BGd6UM6"
      }
    },
    {
      "cell_type": "code",
      "source": [
        "import numpy as np\n",
        "import random"
      ],
      "metadata": {
        "id": "lvHZXpoT9kAE"
      },
      "execution_count": 2,
      "outputs": []
    },
    {
      "cell_type": "code",
      "source": [
        "def crear_baraja():\n",
        "  numeros = [\"01\", \"02\", \"03\", \"04\", \"05\", \"06\", \"07\", \"08\", \"09\", \"10\", \"11\", \"12\", \"13\"]\n",
        "  signos = [\"T\", \"C\", \"P\", \"E\"]\n",
        "  baraja = []\n",
        "  for signo in signos:\n",
        "    for numero in numeros:\n",
        "      carta = signo + numero\n",
        "      baraja.append(carta)\n",
        "  return set(baraja)"
      ],
      "metadata": {
        "id": "8DByzV1_fo7_"
      },
      "execution_count": 46,
      "outputs": []
    },
    {
      "cell_type": "code",
      "source": [
        "baraja = crear_baraja()"
      ],
      "metadata": {
        "id": "rOfNqqPMUw2e"
      },
      "execution_count": 47,
      "outputs": []
    },
    {
      "cell_type": "code",
      "source": [
        "def conjuntos(baraja):\n",
        "  l1 = random.randint(1, len(baraja))\n",
        "  l2 = random.randint(1, len(baraja))\n",
        "  conjunto1 = list(random.sample(baraja, l1))\n",
        "  conjunto2 = list(random.sample(baraja, l2))\n",
        "  return conjunto1, conjunto2"
      ],
      "metadata": {
        "id": "k3gR81AY88sP"
      },
      "execution_count": 86,
      "outputs": []
    },
    {
      "cell_type": "code",
      "source": [
        "def conjuntos(baraja):\n",
        "  l1 = random.randint(1, len(baraja))\n",
        "  l2 = random.randint(1, len(baraja))\n",
        "  conjunto1 = list(random.sample(baraja, l1))\n",
        "  conjunto2 = list(random.sample(baraja, l2))\n",
        "  return set(conjunto1), set(conjunto2)"
      ],
      "metadata": {
        "id": "whmV_SFNGf-u"
      },
      "execution_count": 87,
      "outputs": []
    },
    {
      "cell_type": "code",
      "source": [
        "conjunto1, conjunto2 = conjuntos(baraja)\n",
        "print(\"conjunto 1 = {} \\n conjunto 2 = {}\".format(conjunto1, conjunto2))"
      ],
      "metadata": {
        "colab": {
          "base_uri": "https://localhost:8080/"
        },
        "id": "arnMdswVHKje",
        "outputId": "f0339638-ee93-4858-a71b-b615f416a61e"
      },
      "execution_count": 88,
      "outputs": [
        {
          "output_type": "stream",
          "name": "stdout",
          "text": [
            "conjunto 1 = {'C02', 'C08', 'P03', 'E04', 'T03', 'P12', 'E13', 'C07', 'C09', 'T05', 'C10', 'E07', 'P10'} \n",
            " conjunto 2 = {'C04', 'P13', 'C02', 'T12', 'T02', 'P10', 'C06', 'P01', 'E01', 'P02', 'C05', 'P08', 'P07', 'T08', 'T06', 'E05', 'T03', 'E07', 'T11', 'E10', 'T07', 'T10', 'E04', 'C12', 'E12'}\n"
          ]
        },
        {
          "output_type": "stream",
          "name": "stderr",
          "text": [
            "<ipython-input-87-bb4b4e04e8c4>:4: DeprecationWarning: Sampling from a set deprecated\n",
            "since Python 3.9 and will be removed in a subsequent version.\n",
            "  conjunto1 = list(random.sample(baraja, l1))\n",
            "<ipython-input-87-bb4b4e04e8c4>:5: DeprecationWarning: Sampling from a set deprecated\n",
            "since Python 3.9 and will be removed in a subsequent version.\n",
            "  conjunto2 = list(random.sample(baraja, l2))\n"
          ]
        }
      ]
    },
    {
      "cell_type": "code",
      "source": [
        "def interseccion(conjunto1, conjunto2, baraja):\n",
        "  interseccion = conjunto1.intersection(conjunto2)\n",
        "  p_int = len(interseccion) / len(baraja)\n",
        "  return p_int"
      ],
      "metadata": {
        "id": "lR6oMVKoHO3-"
      },
      "execution_count": 89,
      "outputs": []
    },
    {
      "cell_type": "code",
      "source": [
        "prob_interseccion = interseccion(conjunto1, conjunto2, baraja)\n",
        "prob_interseccion"
      ],
      "metadata": {
        "colab": {
          "base_uri": "https://localhost:8080/"
        },
        "id": "RWHbelHsHt3e",
        "outputId": "d6d7dce3-00e8-4837-de98-cf0e29112738"
      },
      "execution_count": 90,
      "outputs": [
        {
          "output_type": "execute_result",
          "data": {
            "text/plain": [
              "0.09615384615384616"
            ]
          },
          "metadata": {},
          "execution_count": 90
        }
      ]
    },
    {
      "cell_type": "code",
      "source": [
        "def adicion(conjunto1, conjunto2,baraja):\n",
        "  interseccion = conjunto1.intersection(conjunto2)\n",
        "  p_int = len(interseccion) / len(baraja)\n",
        "  p_conjunto1 = len(conjunto1)/len(baraja)\n",
        "  p_conjunto2 = len(conjunto2)/len(baraja)\n",
        "  p_union = p_conjunto1 + p_conjunto2 - p_int \n",
        "  return p_union"
      ],
      "metadata": {
        "id": "mA44loScHzqP"
      },
      "execution_count": 91,
      "outputs": []
    },
    {
      "cell_type": "code",
      "source": [
        "prob_union= adicion(conjunto1, conjunto2, baraja)\n",
        "prob_union"
      ],
      "metadata": {
        "colab": {
          "base_uri": "https://localhost:8080/"
        },
        "id": "-GaXiVObWxdA",
        "outputId": "acfcff77-f0f3-4ee2-e402-5aa52788ecd2"
      },
      "execution_count": 92,
      "outputs": [
        {
          "output_type": "execute_result",
          "data": {
            "text/plain": [
              "0.6346153846153847"
            ]
          },
          "metadata": {},
          "execution_count": 92
        }
      ]
    }
  ]
}