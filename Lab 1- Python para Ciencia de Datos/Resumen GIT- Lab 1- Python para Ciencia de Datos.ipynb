{
 "cells": [
  {
   "cell_type": "markdown",
   "metadata": {},
   "source": [
    "# GIT\n",
    "---\n",
    "* * *"
   ]
  },
  {
   "cell_type": "markdown",
   "metadata": {},
   "source": [
    "## ¿Qué es GIT? "
   ]
  },
  {
   "cell_type": "markdown",
   "metadata": {},
   "source": [
    "Es un sistema de manejo de versiones de código que permite responder a:\n",
    "* ¿Quién escribió un módulo o parte de código específico?\n",
    "* ¿Cuándo fue escrita una línea particular de un archivo en particular?\n",
    "* ¿Quién escribió la línea?\n",
    "* ¿Por qué fue alterada?\n",
    "* ¿Cuándo y por qué determinada prueba unitaria dejó de funcionar?"
   ]
  },
  {
   "cell_type": "markdown",
   "metadata": {},
   "source": [
    "## Algunos términos clave"
   ]
  },
  {
   "cell_type": "markdown",
   "metadata": {},
   "source": [
    "1. **blob** : nombre dado a los archivos en el contexto de GIT\n",
    "2. **tree**: nombre dado a los directorios en el contexto de GIT\n",
    "3. **foo**:  bifurcación de un directorio\n",
    "4. **commit**: captura o \"snapshot\" de una versión específica del código\n",
    "5. **branch**: rama o bifurcación de la versión principal actual del código\n"
   ]
  },
  {
   "cell_type": "markdown",
   "metadata": {},
   "source": [
    "## Representación gráfica de commits y ramas"
   ]
  },
  {
   "cell_type": "markdown",
   "metadata": {},
   "source": [
    "![alt text](s1.png \"Captura de pantalla de learngitbranching.js.org\")   ![alt text](s2.png \"Title\") ![alt text](ramas.png \"Title\")\n",
    "\n",
    "*Capturas de pantalla de [learngitbranching.js.org](https://learngitbranching.js.org )*\n",
    "\n",
    "\n"
   ]
  },
  {
   "cell_type": "markdown",
   "metadata": {},
   "source": [
    "## Comandos locales"
   ]
  },
  {
   "cell_type": "markdown",
   "metadata": {},
   "source": [
    "### git commit"
   ]
  },
  {
   "cell_type": "markdown",
   "metadata": {},
   "source": [
    "Crea un nuevo \"commit\" o nodo que contiene una nueva versión del código."
   ]
  },
  {
   "cell_type": "code",
   "execution_count": null,
   "metadata": {},
   "outputs": [],
   "source": [
    "git commit"
   ]
  },
  {
   "cell_type": "markdown",
   "metadata": {},
   "source": [
    "### git checkout "
   ]
  },
  {
   "cell_type": "markdown",
   "metadata": {},
   "source": [
    "Selecciona un nodo o commit específico sobre el que se desea trabajar."
   ]
  },
  {
   "cell_type": "code",
   "execution_count": null,
   "metadata": {},
   "outputs": [],
   "source": [
    "git checkout <nombre del nodo>"
   ]
  },
  {
   "cell_type": "markdown",
   "metadata": {},
   "source": [
    "### git branch"
   ]
  },
  {
   "cell_type": "markdown",
   "metadata": {},
   "source": [
    "Sin argumento, muestra las ramas actuales.\n",
    "Con argumento, crea una nueva rama a partir de la versión actual"
   ]
  },
  {
   "cell_type": "code",
   "execution_count": null,
   "metadata": {},
   "outputs": [],
   "source": [
    "git branch <nombre de la rama>"
   ]
  },
  {
   "cell_type": "markdown",
   "metadata": {},
   "source": [
    "### git  merge "
   ]
  },
  {
   "cell_type": "markdown",
   "metadata": {},
   "source": [
    "Combina la rama actual con la principal u otra rama del esquema"
   ]
  },
  {
   "cell_type": "code",
   "execution_count": null,
   "metadata": {},
   "outputs": [],
   "source": [
    "git merge <nombre del nodoa combinar>"
   ]
  },
  {
   "cell_type": "markdown",
   "metadata": {},
   "source": [
    "### git rebase"
   ]
  },
  {
   "cell_type": "markdown",
   "metadata": {},
   "source": [
    "Cambia la rama base de una serie de versiones a una rama diferente"
   ]
  },
  {
   "cell_type": "code",
   "execution_count": null,
   "metadata": {},
   "outputs": [],
   "source": [
    "git rebase <nombre de rama a la que se traslada>"
   ]
  },
  {
   "cell_type": "markdown",
   "metadata": {},
   "source": [
    "### git cherry-pick "
   ]
  },
  {
   "cell_type": "markdown",
   "metadata": {},
   "source": [
    "Selecciona y crea una copia de versiones de una rama seleccionada bajo otra rama"
   ]
  },
  {
   "cell_type": "code",
   "execution_count": null,
   "metadata": {},
   "outputs": [],
   "source": [
    "git cherry-pick <nombre 1> <nombre 2>.... <nombre n>"
   ]
  },
  {
   "cell_type": "markdown",
   "metadata": {},
   "source": [
    "## Comandos remotos"
   ]
  },
  {
   "cell_type": "markdown",
   "metadata": {},
   "source": [
    "### git clone"
   ]
  },
  {
   "cell_type": "markdown",
   "metadata": {},
   "source": [
    "Crea una copia local de las referencias del repositorio remoto"
   ]
  },
  {
   "cell_type": "markdown",
   "metadata": {},
   "source": [
    "### git push"
   ]
  },
  {
   "cell_type": "markdown",
   "metadata": {},
   "source": [
    "Envía objetos o referencias al repositorio remoto y actualiza  las referencias remotas"
   ]
  },
  {
   "cell_type": "code",
   "execution_count": null,
   "metadata": {},
   "outputs": [],
   "source": [
    "git push <repositorio remoto> <rama local>:<rama remota>"
   ]
  },
  {
   "cell_type": "markdown",
   "metadata": {},
   "source": [
    "### git remote add"
   ]
  },
  {
   "cell_type": "markdown",
   "metadata": {},
   "source": [
    "Agrega un nuevo repositorio remoto"
   ]
  },
  {
   "cell_type": "code",
   "execution_count": null,
   "metadata": {},
   "outputs": [],
   "source": [
    "git remote add <nombre del repositorio> <url>"
   ]
  },
  {
   "cell_type": "markdown",
   "metadata": {},
   "source": [
    "### git fetch y git pull"
   ]
  },
  {
   "cell_type": "markdown",
   "metadata": {},
   "source": [
    "Obtienen objetos y referencias de un repositorio remoto "
   ]
  },
  {
   "cell_type": "code",
   "execution_count": null,
   "metadata": {},
   "outputs": [],
   "source": [
    "git fetch\n",
    "git pull"
   ]
  },
  {
   "cell_type": "markdown",
   "metadata": {},
   "source": [
    "# Cheat Sheet"
   ]
  },
  {
   "cell_type": "markdown",
   "metadata": {},
   "source": [
    "|Comando |Parámetros|\n",
    "|:-----|:----|\n",
    "|**commit** |ninguno |\n",
    "|**checkout** |nombre o hash del nodo a seleccionar |\n",
    "|**branch** |nombre de la nueva rama |\n",
    "|**merge** |rama a combinar con la actual |\n",
    "|**rebase** |nombre de la nueva rama base |\n",
    "|**cherry-pick** |nombres de las ramas a copiar |\n",
    "|**clone** |ninguno |\n",
    "|**push** |repositorio remoto, rama local, rama remota |\n",
    "|**remote add** |nombre del repositorio, url |\n",
    "|**fetch y pull** |ninguno|\n"
   ]
  }
 ],
 "metadata": {
  "kernelspec": {
   "display_name": "Python 3",
   "language": "python",
   "name": "python3"
  },
  "language_info": {
   "codemirror_mode": {
    "name": "ipython",
    "version": 3
   },
   "file_extension": ".py",
   "mimetype": "text/x-python",
   "name": "python",
   "nbconvert_exporter": "python",
   "pygments_lexer": "ipython3",
   "version": "3.7.4"
  }
 },
 "nbformat": 4,
 "nbformat_minor": 2
}
